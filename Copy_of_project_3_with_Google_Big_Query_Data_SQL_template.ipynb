{
  "nbformat": 4,
  "nbformat_minor": 0,
  "metadata": {
    "colab": {
      "provenance": [],
      "include_colab_link": true
    },
    "kernelspec": {
      "name": "python3",
      "display_name": "Python 3"
    },
    "language_info": {
      "name": "python"
    }
  },
  "cells": [
    {
      "cell_type": "markdown",
      "metadata": {
        "id": "view-in-github",
        "colab_type": "text"
      },
      "source": [
        "<a href=\"https://colab.research.google.com/github/TWHessNM/DataSciencePython/blob/master/Copy_of_project_3_with_Google_Big_Query_Data_SQL_template.ipynb\" target=\"_parent\"><img src=\"https://colab.research.google.com/assets/colab-badge.svg\" alt=\"Open In Colab\"/></a>"
      ]
    },
    {
      "cell_type": "markdown",
      "source": [
        "# Adventures in Bitcoin"
      ],
      "metadata": {
        "id": "cJG_e1vK2NMI"
      }
    },
    {
      "cell_type": "markdown",
      "source": [
        "## Setup\n"
      ],
      "metadata": {
        "id": "s6jMcIbW3P5o"
      }
    },
    {
      "cell_type": "code",
      "source": [
        "from google.cloud import bigquery\n",
        "from google.colab import auth\n",
        "import pandas as pd\n",
        "import plotly.express as px\n",
        "\n",
        "auth.authenticate_user()"
      ],
      "metadata": {
        "id": "UhFW0uTR6Jfv"
      },
      "execution_count": 1,
      "outputs": []
    },
    {
      "cell_type": "code",
      "source": [
        "project_id = 'bitcoindata-381723'\n",
        "\n",
        "# Create client object\n",
        "client = bigquery.Client(project=project_id)"
      ],
      "metadata": {
        "id": "fMYmcQWaZEz-"
      },
      "execution_count": 2,
      "outputs": []
    },
    {
      "cell_type": "markdown",
      "source": [
        "#Initial Exploration"
      ],
      "metadata": {
        "id": "mZRJ5M34aWr9"
      }
    },
    {
      "cell_type": "markdown",
      "source": [
        "### List the tables"
      ],
      "metadata": {
        "id": "5UvuD-iVIOyT"
      }
    },
    {
      "cell_type": "code",
      "execution_count": 3,
      "metadata": {
        "id": "bQn9fRdkxr1u"
      },
      "outputs": [],
      "source": [
        "# Construct a reference to the 'crypto_bitcoin' dataset\n",
        "dataset_ref = client.dataset(\"crypto_bitcoin\", project=\"bigquery-public-data\")\n",
        "# API request - fetch the dataset\n",
        "dataset = client.get_dataset(dataset_ref)"
      ]
    },
    {
      "cell_type": "code",
      "source": [
        "# Get all the tables in the dataset\n",
        "tables = list(client.list_tables(dataset))\n",
        "\n",
        "# Print names of all tables in the dataset\n",
        "for table in tables: \n",
        "  print(table.table_id)"
      ],
      "metadata": {
        "colab": {
          "base_uri": "https://localhost:8080/"
        },
        "id": "aupyb48u6bwC",
        "outputId": "909399c7-6e46-49d0-e4e9-1021d1fe74d1"
      },
      "execution_count": 4,
      "outputs": [
        {
          "output_type": "stream",
          "name": "stdout",
          "text": [
            "blocks\n",
            "inputs\n",
            "outputs\n",
            "transactions\n"
          ]
        }
      ]
    },
    {
      "cell_type": "markdown",
      "source": [
        "### Table schema\n"
      ],
      "metadata": {
        "id": "Fi324-rvIjj4"
      }
    },
    {
      "cell_type": "code",
      "source": [
        "# Construct a reference to the \"transactions\" table\n",
        "table_ref = dataset.table(\"transactions\")\n",
        "\n",
        "# API request - fetch the table\n",
        "table = client.get_table(table_ref)\n",
        "\n",
        "# See the table's schema - name, field type, mode, description\n",
        "table.schema"
      ],
      "metadata": {
        "colab": {
          "base_uri": "https://localhost:8080/"
        },
        "id": "9dMquJungJ1a",
        "outputId": "ccaf9d72-995a-42fa-f6df-b7588f632870"
      },
      "execution_count": 5,
      "outputs": [
        {
          "output_type": "execute_result",
          "data": {
            "text/plain": [
              "[SchemaField('hash', 'STRING', 'REQUIRED', None, 'The hash of this transaction', (), None),\n",
              " SchemaField('size', 'INTEGER', 'NULLABLE', None, 'The size of this transaction in bytes', (), None),\n",
              " SchemaField('virtual_size', 'INTEGER', 'NULLABLE', None, 'The virtual transaction size (differs from size for witness transactions)', (), None),\n",
              " SchemaField('version', 'INTEGER', 'NULLABLE', None, 'Protocol version specified in block which contained this transaction', (), None),\n",
              " SchemaField('lock_time', 'INTEGER', 'NULLABLE', None, 'Earliest time that miners can include the transaction in their hashing of the Merkle root to attach it in the latest block of the blockchain', (), None),\n",
              " SchemaField('block_hash', 'STRING', 'REQUIRED', None, 'Hash of the block which contains this transaction', (), None),\n",
              " SchemaField('block_number', 'INTEGER', 'REQUIRED', None, 'Number of the block which contains this transaction', (), None),\n",
              " SchemaField('block_timestamp', 'TIMESTAMP', 'REQUIRED', None, 'Timestamp of the block which contains this transaction', (), None),\n",
              " SchemaField('block_timestamp_month', 'DATE', 'REQUIRED', None, 'Month of the block which contains this transaction', (), None),\n",
              " SchemaField('input_count', 'INTEGER', 'NULLABLE', None, 'The number of inputs in the transaction', (), None),\n",
              " SchemaField('output_count', 'INTEGER', 'NULLABLE', None, 'The number of outputs in the transaction', (), None),\n",
              " SchemaField('input_value', 'NUMERIC', 'NULLABLE', None, 'Total value of inputs in the transaction', (), None),\n",
              " SchemaField('output_value', 'NUMERIC', 'NULLABLE', None, 'Total value of outputs in the transaction', (), None),\n",
              " SchemaField('is_coinbase', 'BOOLEAN', 'NULLABLE', None, 'true if this transaction is a coinbase transaction', (), None),\n",
              " SchemaField('fee', 'NUMERIC', 'NULLABLE', None, 'The fee paid by this transaction', (), None),\n",
              " SchemaField('inputs', 'RECORD', 'REPEATED', None, 'Transaction inputs', (SchemaField('index', 'INTEGER', 'REQUIRED', None, '0-indexed number of an input within a transaction', (), None), SchemaField('spent_transaction_hash', 'STRING', 'NULLABLE', None, 'The hash of the transaction which contains the output that this input spends', (), None), SchemaField('spent_output_index', 'INTEGER', 'NULLABLE', None, 'The index of the output this input spends', (), None), SchemaField('script_asm', 'STRING', 'NULLABLE', None, \"Symbolic representation of the bitcoin's script language op-codes\", (), None), SchemaField('script_hex', 'STRING', 'NULLABLE', None, \"Hexadecimal representation of the bitcoin's script language op-codes\", (), None), SchemaField('sequence', 'INTEGER', 'NULLABLE', None, 'A number intended to allow unconfirmed time-locked transactions to be updated before being finalized; not currently used except to disable locktime in a transaction', (), None), SchemaField('required_signatures', 'INTEGER', 'NULLABLE', None, 'The number of signatures required to authorize the spent output', (), None), SchemaField('type', 'STRING', 'NULLABLE', None, 'The address type of the spent output', (), None), SchemaField('addresses', 'STRING', 'REPEATED', None, 'Addresses which own the spent output', (), None), SchemaField('value', 'NUMERIC', 'NULLABLE', None, 'The value in base currency attached to the spent output', (), None)), None),\n",
              " SchemaField('outputs', 'RECORD', 'REPEATED', None, 'Transaction outputs', (SchemaField('index', 'INTEGER', 'REQUIRED', None, '0-indexed number of an output within a transaction used by a later transaction to refer to that specific output', (), None), SchemaField('script_asm', 'STRING', 'NULLABLE', None, \"Symbolic representation of the bitcoin's script language op-codes\", (), None), SchemaField('script_hex', 'STRING', 'NULLABLE', None, \"Hexadecimal representation of the bitcoin's script language op-codes\", (), None), SchemaField('required_signatures', 'INTEGER', 'NULLABLE', None, 'The number of signatures required to authorize spending of this output', (), None), SchemaField('type', 'STRING', 'NULLABLE', None, 'The address type of the output', (), None), SchemaField('addresses', 'STRING', 'REPEATED', None, 'Addresses which own this output', (), None), SchemaField('value', 'NUMERIC', 'NULLABLE', None, 'The value in base currency attached to this output', (), None)), None)]"
            ]
          },
          "metadata": {},
          "execution_count": 5
        }
      ]
    },
    {
      "cell_type": "code",
      "source": [
        "dir(table.schema[0])"
      ],
      "metadata": {
        "colab": {
          "base_uri": "https://localhost:8080/"
        },
        "id": "pQk2VsxnMNz2",
        "outputId": "3037e981-54ba-426f-c411-5cc7c5196c57"
      },
      "execution_count": 6,
      "outputs": [
        {
          "output_type": "execute_result",
          "data": {
            "text/plain": [
              "['_SchemaField__get_int',\n",
              " '__class__',\n",
              " '__delattr__',\n",
              " '__dict__',\n",
              " '__dir__',\n",
              " '__doc__',\n",
              " '__eq__',\n",
              " '__format__',\n",
              " '__ge__',\n",
              " '__getattribute__',\n",
              " '__gt__',\n",
              " '__hash__',\n",
              " '__init__',\n",
              " '__init_subclass__',\n",
              " '__le__',\n",
              " '__lt__',\n",
              " '__module__',\n",
              " '__ne__',\n",
              " '__new__',\n",
              " '__reduce__',\n",
              " '__reduce_ex__',\n",
              " '__repr__',\n",
              " '__setattr__',\n",
              " '__sizeof__',\n",
              " '__str__',\n",
              " '__subclasshook__',\n",
              " '__weakref__',\n",
              " '_fields',\n",
              " '_key',\n",
              " '_properties',\n",
              " 'default_value_expression',\n",
              " 'description',\n",
              " 'field_type',\n",
              " 'fields',\n",
              " 'from_api_repr',\n",
              " 'is_nullable',\n",
              " 'max_length',\n",
              " 'mode',\n",
              " 'name',\n",
              " 'policy_tags',\n",
              " 'precision',\n",
              " 'scale',\n",
              " 'to_api_repr',\n",
              " 'to_standard_sql']"
            ]
          },
          "metadata": {},
          "execution_count": 6
        }
      ]
    },
    {
      "cell_type": "code",
      "source": [
        "# Preview the first five lines of the table\n",
        "client.list_rows(table, max_results=5).to_dataframe()"
      ],
      "metadata": {
        "colab": {
          "base_uri": "https://localhost:8080/",
          "height": 444
        },
        "id": "KCmZqMBrMsWq",
        "outputId": "07866eca-0d88-4aea-bbc5-05fb3b8a1fe9"
      },
      "execution_count": 7,
      "outputs": [
        {
          "output_type": "execute_result",
          "data": {
            "text/plain": [
              "                                                hash  size  virtual_size  \\\n",
              "0  a16f3ce4dd5deb92d98ef5cf8afeaf0775ebca408f708b...   275           275   \n",
              "1  591e91f809d716912ca1d4a9295e70c3e78bab077683f7...   275           275   \n",
              "2  12b5633bad1f9c167d523ad1aa1947b2732a865bf5414e...   276           276   \n",
              "3  828ef3b079f9c23829c56fe86e85b4a69d9e06e5b54ea5...   276           276   \n",
              "4  35288d269cee1941eaebb2ea85e32b42cdb2b04284a56d...   277           277   \n",
              "\n",
              "   version  lock_time                                         block_hash  \\\n",
              "0        1          0  00000000dc55860c8a29c58d45209318fa9e9dc2c1833a...   \n",
              "1        1          0  0000000054487811fc4ff7a95be738aa5ad9320c394c48...   \n",
              "2        1          0  00000000f46e513f038baf6f2d9a95b2a28d8a6c985bcf...   \n",
              "3        1          0  00000000fb5b44edc7a1aa105075564a179d65506e2bd2...   \n",
              "4        1          0  00000000689051c09ff2cd091cc4c22c10b965eb8db3ad...   \n",
              "\n",
              "   block_number           block_timestamp block_timestamp_month  input_count  \\\n",
              "0           181 2009-01-12 06:02:13+00:00            2009-01-01            1   \n",
              "1           182 2009-01-12 06:12:16+00:00            2009-01-01            1   \n",
              "2           183 2009-01-12 06:34:22+00:00            2009-01-01            1   \n",
              "3           248 2009-01-12 20:04:20+00:00            2009-01-01            1   \n",
              "4           545 2009-01-15 05:48:32+00:00            2009-01-01            1   \n",
              "\n",
              "   output_count           input_value          output_value  is_coinbase  \\\n",
              "0             2  4000000000.000000000  4000000000.000000000        False   \n",
              "1             2  3000000000.000000000  3000000000.000000000        False   \n",
              "2             2  2900000000.000000000  2900000000.000000000        False   \n",
              "3             2  2800000000.000000000  2800000000.000000000        False   \n",
              "4             2  2500000000.000000000  2500000000.000000000        False   \n",
              "\n",
              "    fee                                             inputs  \\\n",
              "0  0E-9  [{'index': 0, 'spent_transaction_hash': 'f4184...   \n",
              "1  0E-9  [{'index': 0, 'spent_transaction_hash': 'a16f3...   \n",
              "2  0E-9  [{'index': 0, 'spent_transaction_hash': '591e9...   \n",
              "3  0E-9  [{'index': 0, 'spent_transaction_hash': '12b56...   \n",
              "4  0E-9  [{'index': 0, 'spent_transaction_hash': 'd71fd...   \n",
              "\n",
              "                                             outputs  \n",
              "0  [{'index': 0, 'script_asm': '04b5abd412d4341b4...  \n",
              "1  [{'index': 0, 'script_asm': '0401518fa1d1e1e3e...  \n",
              "2  [{'index': 0, 'script_asm': '04baa9d3665315562...  \n",
              "3  [{'index': 0, 'script_asm': '04bed827d37474bef...  \n",
              "4  [{'index': 0, 'script_asm': '044a656f065871a35...  "
            ],
            "text/html": [
              "\n",
              "  <div id=\"df-c4dd9084-3578-4457-ac7b-44681f23f703\">\n",
              "    <div class=\"colab-df-container\">\n",
              "      <div>\n",
              "<style scoped>\n",
              "    .dataframe tbody tr th:only-of-type {\n",
              "        vertical-align: middle;\n",
              "    }\n",
              "\n",
              "    .dataframe tbody tr th {\n",
              "        vertical-align: top;\n",
              "    }\n",
              "\n",
              "    .dataframe thead th {\n",
              "        text-align: right;\n",
              "    }\n",
              "</style>\n",
              "<table border=\"1\" class=\"dataframe\">\n",
              "  <thead>\n",
              "    <tr style=\"text-align: right;\">\n",
              "      <th></th>\n",
              "      <th>hash</th>\n",
              "      <th>size</th>\n",
              "      <th>virtual_size</th>\n",
              "      <th>version</th>\n",
              "      <th>lock_time</th>\n",
              "      <th>block_hash</th>\n",
              "      <th>block_number</th>\n",
              "      <th>block_timestamp</th>\n",
              "      <th>block_timestamp_month</th>\n",
              "      <th>input_count</th>\n",
              "      <th>output_count</th>\n",
              "      <th>input_value</th>\n",
              "      <th>output_value</th>\n",
              "      <th>is_coinbase</th>\n",
              "      <th>fee</th>\n",
              "      <th>inputs</th>\n",
              "      <th>outputs</th>\n",
              "    </tr>\n",
              "  </thead>\n",
              "  <tbody>\n",
              "    <tr>\n",
              "      <th>0</th>\n",
              "      <td>a16f3ce4dd5deb92d98ef5cf8afeaf0775ebca408f708b...</td>\n",
              "      <td>275</td>\n",
              "      <td>275</td>\n",
              "      <td>1</td>\n",
              "      <td>0</td>\n",
              "      <td>00000000dc55860c8a29c58d45209318fa9e9dc2c1833a...</td>\n",
              "      <td>181</td>\n",
              "      <td>2009-01-12 06:02:13+00:00</td>\n",
              "      <td>2009-01-01</td>\n",
              "      <td>1</td>\n",
              "      <td>2</td>\n",
              "      <td>4000000000.000000000</td>\n",
              "      <td>4000000000.000000000</td>\n",
              "      <td>False</td>\n",
              "      <td>0E-9</td>\n",
              "      <td>[{'index': 0, 'spent_transaction_hash': 'f4184...</td>\n",
              "      <td>[{'index': 0, 'script_asm': '04b5abd412d4341b4...</td>\n",
              "    </tr>\n",
              "    <tr>\n",
              "      <th>1</th>\n",
              "      <td>591e91f809d716912ca1d4a9295e70c3e78bab077683f7...</td>\n",
              "      <td>275</td>\n",
              "      <td>275</td>\n",
              "      <td>1</td>\n",
              "      <td>0</td>\n",
              "      <td>0000000054487811fc4ff7a95be738aa5ad9320c394c48...</td>\n",
              "      <td>182</td>\n",
              "      <td>2009-01-12 06:12:16+00:00</td>\n",
              "      <td>2009-01-01</td>\n",
              "      <td>1</td>\n",
              "      <td>2</td>\n",
              "      <td>3000000000.000000000</td>\n",
              "      <td>3000000000.000000000</td>\n",
              "      <td>False</td>\n",
              "      <td>0E-9</td>\n",
              "      <td>[{'index': 0, 'spent_transaction_hash': 'a16f3...</td>\n",
              "      <td>[{'index': 0, 'script_asm': '0401518fa1d1e1e3e...</td>\n",
              "    </tr>\n",
              "    <tr>\n",
              "      <th>2</th>\n",
              "      <td>12b5633bad1f9c167d523ad1aa1947b2732a865bf5414e...</td>\n",
              "      <td>276</td>\n",
              "      <td>276</td>\n",
              "      <td>1</td>\n",
              "      <td>0</td>\n",
              "      <td>00000000f46e513f038baf6f2d9a95b2a28d8a6c985bcf...</td>\n",
              "      <td>183</td>\n",
              "      <td>2009-01-12 06:34:22+00:00</td>\n",
              "      <td>2009-01-01</td>\n",
              "      <td>1</td>\n",
              "      <td>2</td>\n",
              "      <td>2900000000.000000000</td>\n",
              "      <td>2900000000.000000000</td>\n",
              "      <td>False</td>\n",
              "      <td>0E-9</td>\n",
              "      <td>[{'index': 0, 'spent_transaction_hash': '591e9...</td>\n",
              "      <td>[{'index': 0, 'script_asm': '04baa9d3665315562...</td>\n",
              "    </tr>\n",
              "    <tr>\n",
              "      <th>3</th>\n",
              "      <td>828ef3b079f9c23829c56fe86e85b4a69d9e06e5b54ea5...</td>\n",
              "      <td>276</td>\n",
              "      <td>276</td>\n",
              "      <td>1</td>\n",
              "      <td>0</td>\n",
              "      <td>00000000fb5b44edc7a1aa105075564a179d65506e2bd2...</td>\n",
              "      <td>248</td>\n",
              "      <td>2009-01-12 20:04:20+00:00</td>\n",
              "      <td>2009-01-01</td>\n",
              "      <td>1</td>\n",
              "      <td>2</td>\n",
              "      <td>2800000000.000000000</td>\n",
              "      <td>2800000000.000000000</td>\n",
              "      <td>False</td>\n",
              "      <td>0E-9</td>\n",
              "      <td>[{'index': 0, 'spent_transaction_hash': '12b56...</td>\n",
              "      <td>[{'index': 0, 'script_asm': '04bed827d37474bef...</td>\n",
              "    </tr>\n",
              "    <tr>\n",
              "      <th>4</th>\n",
              "      <td>35288d269cee1941eaebb2ea85e32b42cdb2b04284a56d...</td>\n",
              "      <td>277</td>\n",
              "      <td>277</td>\n",
              "      <td>1</td>\n",
              "      <td>0</td>\n",
              "      <td>00000000689051c09ff2cd091cc4c22c10b965eb8db3ad...</td>\n",
              "      <td>545</td>\n",
              "      <td>2009-01-15 05:48:32+00:00</td>\n",
              "      <td>2009-01-01</td>\n",
              "      <td>1</td>\n",
              "      <td>2</td>\n",
              "      <td>2500000000.000000000</td>\n",
              "      <td>2500000000.000000000</td>\n",
              "      <td>False</td>\n",
              "      <td>0E-9</td>\n",
              "      <td>[{'index': 0, 'spent_transaction_hash': 'd71fd...</td>\n",
              "      <td>[{'index': 0, 'script_asm': '044a656f065871a35...</td>\n",
              "    </tr>\n",
              "  </tbody>\n",
              "</table>\n",
              "</div>\n",
              "      <button class=\"colab-df-convert\" onclick=\"convertToInteractive('df-c4dd9084-3578-4457-ac7b-44681f23f703')\"\n",
              "              title=\"Convert this dataframe to an interactive table.\"\n",
              "              style=\"display:none;\">\n",
              "        \n",
              "  <svg xmlns=\"http://www.w3.org/2000/svg\" height=\"24px\"viewBox=\"0 0 24 24\"\n",
              "       width=\"24px\">\n",
              "    <path d=\"M0 0h24v24H0V0z\" fill=\"none\"/>\n",
              "    <path d=\"M18.56 5.44l.94 2.06.94-2.06 2.06-.94-2.06-.94-.94-2.06-.94 2.06-2.06.94zm-11 1L8.5 8.5l.94-2.06 2.06-.94-2.06-.94L8.5 2.5l-.94 2.06-2.06.94zm10 10l.94 2.06.94-2.06 2.06-.94-2.06-.94-.94-2.06-.94 2.06-2.06.94z\"/><path d=\"M17.41 7.96l-1.37-1.37c-.4-.4-.92-.59-1.43-.59-.52 0-1.04.2-1.43.59L10.3 9.45l-7.72 7.72c-.78.78-.78 2.05 0 2.83L4 21.41c.39.39.9.59 1.41.59.51 0 1.02-.2 1.41-.59l7.78-7.78 2.81-2.81c.8-.78.8-2.07 0-2.86zM5.41 20L4 18.59l7.72-7.72 1.47 1.35L5.41 20z\"/>\n",
              "  </svg>\n",
              "      </button>\n",
              "      \n",
              "  <style>\n",
              "    .colab-df-container {\n",
              "      display:flex;\n",
              "      flex-wrap:wrap;\n",
              "      gap: 12px;\n",
              "    }\n",
              "\n",
              "    .colab-df-convert {\n",
              "      background-color: #E8F0FE;\n",
              "      border: none;\n",
              "      border-radius: 50%;\n",
              "      cursor: pointer;\n",
              "      display: none;\n",
              "      fill: #1967D2;\n",
              "      height: 32px;\n",
              "      padding: 0 0 0 0;\n",
              "      width: 32px;\n",
              "    }\n",
              "\n",
              "    .colab-df-convert:hover {\n",
              "      background-color: #E2EBFA;\n",
              "      box-shadow: 0px 1px 2px rgba(60, 64, 67, 0.3), 0px 1px 3px 1px rgba(60, 64, 67, 0.15);\n",
              "      fill: #174EA6;\n",
              "    }\n",
              "\n",
              "    [theme=dark] .colab-df-convert {\n",
              "      background-color: #3B4455;\n",
              "      fill: #D2E3FC;\n",
              "    }\n",
              "\n",
              "    [theme=dark] .colab-df-convert:hover {\n",
              "      background-color: #434B5C;\n",
              "      box-shadow: 0px 1px 3px 1px rgba(0, 0, 0, 0.15);\n",
              "      filter: drop-shadow(0px 1px 2px rgba(0, 0, 0, 0.3));\n",
              "      fill: #FFFFFF;\n",
              "    }\n",
              "  </style>\n",
              "\n",
              "      <script>\n",
              "        const buttonEl =\n",
              "          document.querySelector('#df-c4dd9084-3578-4457-ac7b-44681f23f703 button.colab-df-convert');\n",
              "        buttonEl.style.display =\n",
              "          google.colab.kernel.accessAllowed ? 'block' : 'none';\n",
              "\n",
              "        async function convertToInteractive(key) {\n",
              "          const element = document.querySelector('#df-c4dd9084-3578-4457-ac7b-44681f23f703');\n",
              "          const dataTable =\n",
              "            await google.colab.kernel.invokeFunction('convertToInteractive',\n",
              "                                                     [key], {});\n",
              "          if (!dataTable) return;\n",
              "\n",
              "          const docLinkHtml = 'Like what you see? Visit the ' +\n",
              "            '<a target=\"_blank\" href=https://colab.research.google.com/notebooks/data_table.ipynb>data table notebook</a>'\n",
              "            + ' to learn more about interactive tables.';\n",
              "          element.innerHTML = '';\n",
              "          dataTable['output_type'] = 'display_data';\n",
              "          await google.colab.output.renderOutput(dataTable, element);\n",
              "          const docLink = document.createElement('div');\n",
              "          docLink.innerHTML = docLinkHtml;\n",
              "          element.appendChild(docLink);\n",
              "        }\n",
              "      </script>\n",
              "    </div>\n",
              "  </div>\n",
              "  "
            ]
          },
          "metadata": {},
          "execution_count": 7
        }
      ]
    },
    {
      "cell_type": "markdown",
      "source": [
        "##  Add safe config settings"
      ],
      "metadata": {
        "id": "1LFNvw0uNDUY"
      }
    },
    {
      "cell_type": "code",
      "source": [
        "ONE_MB = 1_000*1_000\n",
        "ONE_GB = 1_000*ONE_MB"
      ],
      "metadata": {
        "id": "hVj_qbFtNF-2"
      },
      "execution_count": 8,
      "outputs": []
    },
    {
      "cell_type": "code",
      "source": [
        "#Dry run query to estimate the size of a query before running it\n",
        "query = \"\"\"\n",
        "        SELECT *\n",
        "        FROM bigquery-public-data.crypto_bitcoin.transactions\n",
        "        LIMIT 5\n",
        "        \"\"\"\n",
        "\n",
        "\n",
        "dry_run_config = bigquery.QueryJobConfig(dry_run = True)\n",
        "dry_run_query_job = client.query(query, job_config= dry_run_config)\n",
        "size = dry_run_query_job.total_bytes_processed\n",
        "print(f\"{size:_}\")"
      ],
      "metadata": {
        "colab": {
          "base_uri": "https://localhost:8080/"
        },
        "id": "vCEOJY-_NZLu",
        "outputId": "f013ca45-6954-4f09-c484-0da103a2f1fe"
      },
      "execution_count": 12,
      "outputs": [
        {
          "output_type": "stream",
          "name": "stdout",
          "text": [
            "1_771_095_216_329\n"
          ]
        }
      ]
    },
    {
      "cell_type": "code",
      "source": [
        "#Safe Config to limit scanned data.\n",
        "safe_config = bigquery.QueryJobConfig(maximum_bytes_billed=ONE_GB)\n",
        "\n",
        "safe_query_job = client.query(query, job_config=safe_config)\n",
        "df = safe_query_job.to_dataframe()\n",
        "df.head()"
      ],
      "metadata": {
        "colab": {
          "base_uri": "https://localhost:8080/",
          "height": 415
        },
        "id": "Yj2_H8zwOjYQ",
        "outputId": "7da0c870-6e9e-4582-9e10-ce6dd05a4562"
      },
      "execution_count": 13,
      "outputs": [
        {
          "output_type": "error",
          "ename": "InternalServerError",
          "evalue": "ignored",
          "traceback": [
            "\u001b[0;31m---------------------------------------------------------------------------\u001b[0m",
            "\u001b[0;31mInternalServerError\u001b[0m                       Traceback (most recent call last)",
            "\u001b[0;32m<ipython-input-13-8e5cea89f9a3>\u001b[0m in \u001b[0;36m<module>\u001b[0;34m\u001b[0m\n\u001b[1;32m      3\u001b[0m \u001b[0;34m\u001b[0m\u001b[0m\n\u001b[1;32m      4\u001b[0m \u001b[0msafe_query_job\u001b[0m \u001b[0;34m=\u001b[0m \u001b[0mclient\u001b[0m\u001b[0;34m.\u001b[0m\u001b[0mquery\u001b[0m\u001b[0;34m(\u001b[0m\u001b[0mquery\u001b[0m\u001b[0;34m,\u001b[0m \u001b[0mjob_config\u001b[0m\u001b[0;34m=\u001b[0m\u001b[0msafe_config\u001b[0m\u001b[0;34m)\u001b[0m\u001b[0;34m\u001b[0m\u001b[0;34m\u001b[0m\u001b[0m\n\u001b[0;32m----> 5\u001b[0;31m \u001b[0mdf\u001b[0m \u001b[0;34m=\u001b[0m \u001b[0msafe_query_job\u001b[0m\u001b[0;34m.\u001b[0m\u001b[0mto_dataframe\u001b[0m\u001b[0;34m(\u001b[0m\u001b[0;34m)\u001b[0m\u001b[0;34m\u001b[0m\u001b[0;34m\u001b[0m\u001b[0m\n\u001b[0m\u001b[1;32m      6\u001b[0m \u001b[0mdf\u001b[0m\u001b[0;34m.\u001b[0m\u001b[0mhead\u001b[0m\u001b[0;34m(\u001b[0m\u001b[0;34m)\u001b[0m\u001b[0;34m\u001b[0m\u001b[0;34m\u001b[0m\u001b[0m\n",
            "\u001b[0;32m/usr/local/lib/python3.9/dist-packages/google/cloud/bigquery/job/query.py\u001b[0m in \u001b[0;36mto_dataframe\u001b[0;34m(self, bqstorage_client, dtypes, progress_bar_type, create_bqstorage_client, max_results, geography_as_object)\u001b[0m\n\u001b[1;32m   1685\u001b[0m                 \u001b[0;34m:\u001b[0m\u001b[0mmod\u001b[0m\u001b[0;34m:\u001b[0m\u001b[0;31m`\u001b[0m\u001b[0mshapely\u001b[0m\u001b[0;31m`\u001b[0m \u001b[0mlibrary\u001b[0m \u001b[0mcannot\u001b[0m \u001b[0mbe\u001b[0m \u001b[0mimported\u001b[0m\u001b[0;34m.\u001b[0m\u001b[0;34m\u001b[0m\u001b[0;34m\u001b[0m\u001b[0m\n\u001b[1;32m   1686\u001b[0m         \"\"\"\n\u001b[0;32m-> 1687\u001b[0;31m         \u001b[0mquery_result\u001b[0m \u001b[0;34m=\u001b[0m \u001b[0mwait_for_query\u001b[0m\u001b[0;34m(\u001b[0m\u001b[0mself\u001b[0m\u001b[0;34m,\u001b[0m \u001b[0mprogress_bar_type\u001b[0m\u001b[0;34m,\u001b[0m \u001b[0mmax_results\u001b[0m\u001b[0;34m=\u001b[0m\u001b[0mmax_results\u001b[0m\u001b[0;34m)\u001b[0m\u001b[0;34m\u001b[0m\u001b[0;34m\u001b[0m\u001b[0m\n\u001b[0m\u001b[1;32m   1688\u001b[0m         return query_result.to_dataframe(\n\u001b[1;32m   1689\u001b[0m             \u001b[0mbqstorage_client\u001b[0m\u001b[0;34m=\u001b[0m\u001b[0mbqstorage_client\u001b[0m\u001b[0;34m,\u001b[0m\u001b[0;34m\u001b[0m\u001b[0;34m\u001b[0m\u001b[0m\n",
            "\u001b[0;32m/usr/local/lib/python3.9/dist-packages/google/cloud/bigquery/_tqdm_helpers.py\u001b[0m in \u001b[0;36mwait_for_query\u001b[0;34m(query_job, progress_bar_type, max_results)\u001b[0m\n\u001b[1;32m    102\u001b[0m     )\n\u001b[1;32m    103\u001b[0m     \u001b[0;32mif\u001b[0m \u001b[0mprogress_bar\u001b[0m \u001b[0;32mis\u001b[0m \u001b[0;32mNone\u001b[0m\u001b[0;34m:\u001b[0m\u001b[0;34m\u001b[0m\u001b[0;34m\u001b[0m\u001b[0m\n\u001b[0;32m--> 104\u001b[0;31m         \u001b[0;32mreturn\u001b[0m \u001b[0mquery_job\u001b[0m\u001b[0;34m.\u001b[0m\u001b[0mresult\u001b[0m\u001b[0;34m(\u001b[0m\u001b[0mmax_results\u001b[0m\u001b[0;34m=\u001b[0m\u001b[0mmax_results\u001b[0m\u001b[0;34m)\u001b[0m\u001b[0;34m\u001b[0m\u001b[0;34m\u001b[0m\u001b[0m\n\u001b[0m\u001b[1;32m    105\u001b[0m \u001b[0;34m\u001b[0m\u001b[0m\n\u001b[1;32m    106\u001b[0m     \u001b[0mi\u001b[0m \u001b[0;34m=\u001b[0m \u001b[0;36m0\u001b[0m\u001b[0;34m\u001b[0m\u001b[0;34m\u001b[0m\u001b[0m\n",
            "\u001b[0;32m/usr/local/lib/python3.9/dist-packages/google/cloud/bigquery/job/query.py\u001b[0m in \u001b[0;36mresult\u001b[0;34m(self, page_size, max_results, retry, timeout, start_index, job_retry)\u001b[0m\n\u001b[1;32m   1497\u001b[0m                 \u001b[0mdo_get_result\u001b[0m \u001b[0;34m=\u001b[0m \u001b[0mjob_retry\u001b[0m\u001b[0;34m(\u001b[0m\u001b[0mdo_get_result\u001b[0m\u001b[0;34m)\u001b[0m\u001b[0;34m\u001b[0m\u001b[0;34m\u001b[0m\u001b[0m\n\u001b[1;32m   1498\u001b[0m \u001b[0;34m\u001b[0m\u001b[0m\n\u001b[0;32m-> 1499\u001b[0;31m             \u001b[0mdo_get_result\u001b[0m\u001b[0;34m(\u001b[0m\u001b[0;34m)\u001b[0m\u001b[0;34m\u001b[0m\u001b[0;34m\u001b[0m\u001b[0m\n\u001b[0m\u001b[1;32m   1500\u001b[0m \u001b[0;34m\u001b[0m\u001b[0m\n\u001b[1;32m   1501\u001b[0m         \u001b[0;32mexcept\u001b[0m \u001b[0mexceptions\u001b[0m\u001b[0;34m.\u001b[0m\u001b[0mGoogleAPICallError\u001b[0m \u001b[0;32mas\u001b[0m \u001b[0mexc\u001b[0m\u001b[0;34m:\u001b[0m\u001b[0;34m\u001b[0m\u001b[0;34m\u001b[0m\u001b[0m\n",
            "\u001b[0;32m/usr/local/lib/python3.9/dist-packages/google/api_core/retry.py\u001b[0m in \u001b[0;36mretry_wrapped_func\u001b[0;34m(*args, **kwargs)\u001b[0m\n\u001b[1;32m    347\u001b[0m                 \u001b[0mself\u001b[0m\u001b[0;34m.\u001b[0m\u001b[0m_initial\u001b[0m\u001b[0;34m,\u001b[0m \u001b[0mself\u001b[0m\u001b[0;34m.\u001b[0m\u001b[0m_maximum\u001b[0m\u001b[0;34m,\u001b[0m \u001b[0mmultiplier\u001b[0m\u001b[0;34m=\u001b[0m\u001b[0mself\u001b[0m\u001b[0;34m.\u001b[0m\u001b[0m_multiplier\u001b[0m\u001b[0;34m\u001b[0m\u001b[0;34m\u001b[0m\u001b[0m\n\u001b[1;32m    348\u001b[0m             )\n\u001b[0;32m--> 349\u001b[0;31m             return retry_target(\n\u001b[0m\u001b[1;32m    350\u001b[0m                 \u001b[0mtarget\u001b[0m\u001b[0;34m,\u001b[0m\u001b[0;34m\u001b[0m\u001b[0;34m\u001b[0m\u001b[0m\n\u001b[1;32m    351\u001b[0m                 \u001b[0mself\u001b[0m\u001b[0;34m.\u001b[0m\u001b[0m_predicate\u001b[0m\u001b[0;34m,\u001b[0m\u001b[0;34m\u001b[0m\u001b[0;34m\u001b[0m\u001b[0m\n",
            "\u001b[0;32m/usr/local/lib/python3.9/dist-packages/google/api_core/retry.py\u001b[0m in \u001b[0;36mretry_target\u001b[0;34m(target, predicate, sleep_generator, timeout, on_error, **kwargs)\u001b[0m\n\u001b[1;32m    189\u001b[0m     \u001b[0;32mfor\u001b[0m \u001b[0msleep\u001b[0m \u001b[0;32min\u001b[0m \u001b[0msleep_generator\u001b[0m\u001b[0;34m:\u001b[0m\u001b[0;34m\u001b[0m\u001b[0;34m\u001b[0m\u001b[0m\n\u001b[1;32m    190\u001b[0m         \u001b[0;32mtry\u001b[0m\u001b[0;34m:\u001b[0m\u001b[0;34m\u001b[0m\u001b[0;34m\u001b[0m\u001b[0m\n\u001b[0;32m--> 191\u001b[0;31m             \u001b[0;32mreturn\u001b[0m \u001b[0mtarget\u001b[0m\u001b[0;34m(\u001b[0m\u001b[0;34m)\u001b[0m\u001b[0;34m\u001b[0m\u001b[0;34m\u001b[0m\u001b[0m\n\u001b[0m\u001b[1;32m    192\u001b[0m \u001b[0;34m\u001b[0m\u001b[0m\n\u001b[1;32m    193\u001b[0m         \u001b[0;31m# pylint: disable=broad-except\u001b[0m\u001b[0;34m\u001b[0m\u001b[0;34m\u001b[0m\u001b[0m\n",
            "\u001b[0;32m/usr/local/lib/python3.9/dist-packages/google/cloud/bigquery/job/query.py\u001b[0m in \u001b[0;36mdo_get_result\u001b[0;34m()\u001b[0m\n\u001b[1;32m   1487\u001b[0m                     \u001b[0mself\u001b[0m\u001b[0;34m.\u001b[0m\u001b[0m_job_retry\u001b[0m \u001b[0;34m=\u001b[0m \u001b[0mjob_retry\u001b[0m\u001b[0;34m\u001b[0m\u001b[0;34m\u001b[0m\u001b[0m\n\u001b[1;32m   1488\u001b[0m \u001b[0;34m\u001b[0m\u001b[0m\n\u001b[0;32m-> 1489\u001b[0;31m                 \u001b[0msuper\u001b[0m\u001b[0;34m(\u001b[0m\u001b[0mQueryJob\u001b[0m\u001b[0;34m,\u001b[0m \u001b[0mself\u001b[0m\u001b[0;34m)\u001b[0m\u001b[0;34m.\u001b[0m\u001b[0mresult\u001b[0m\u001b[0;34m(\u001b[0m\u001b[0mretry\u001b[0m\u001b[0;34m=\u001b[0m\u001b[0mretry\u001b[0m\u001b[0;34m,\u001b[0m \u001b[0mtimeout\u001b[0m\u001b[0;34m=\u001b[0m\u001b[0mtimeout\u001b[0m\u001b[0;34m)\u001b[0m\u001b[0;34m\u001b[0m\u001b[0;34m\u001b[0m\u001b[0m\n\u001b[0m\u001b[1;32m   1490\u001b[0m \u001b[0;34m\u001b[0m\u001b[0m\n\u001b[1;32m   1491\u001b[0m                 \u001b[0;31m# Since the job could already be \"done\" (e.g. got a finished job\u001b[0m\u001b[0;34m\u001b[0m\u001b[0;34m\u001b[0m\u001b[0m\n",
            "\u001b[0;32m/usr/local/lib/python3.9/dist-packages/google/cloud/bigquery/job/base.py\u001b[0m in \u001b[0;36mresult\u001b[0;34m(self, retry, timeout)\u001b[0m\n\u001b[1;32m    726\u001b[0m \u001b[0;34m\u001b[0m\u001b[0m\n\u001b[1;32m    727\u001b[0m         \u001b[0mkwargs\u001b[0m \u001b[0;34m=\u001b[0m \u001b[0;34m{\u001b[0m\u001b[0;34m}\u001b[0m \u001b[0;32mif\u001b[0m \u001b[0mretry\u001b[0m \u001b[0;32mis\u001b[0m \u001b[0mDEFAULT_RETRY\u001b[0m \u001b[0;32melse\u001b[0m \u001b[0;34m{\u001b[0m\u001b[0;34m\"retry\"\u001b[0m\u001b[0;34m:\u001b[0m \u001b[0mretry\u001b[0m\u001b[0;34m}\u001b[0m\u001b[0;34m\u001b[0m\u001b[0;34m\u001b[0m\u001b[0m\n\u001b[0;32m--> 728\u001b[0;31m         \u001b[0;32mreturn\u001b[0m \u001b[0msuper\u001b[0m\u001b[0;34m(\u001b[0m\u001b[0m_AsyncJob\u001b[0m\u001b[0;34m,\u001b[0m \u001b[0mself\u001b[0m\u001b[0;34m)\u001b[0m\u001b[0;34m.\u001b[0m\u001b[0mresult\u001b[0m\u001b[0;34m(\u001b[0m\u001b[0mtimeout\u001b[0m\u001b[0;34m=\u001b[0m\u001b[0mtimeout\u001b[0m\u001b[0;34m,\u001b[0m \u001b[0;34m**\u001b[0m\u001b[0mkwargs\u001b[0m\u001b[0;34m)\u001b[0m\u001b[0;34m\u001b[0m\u001b[0;34m\u001b[0m\u001b[0m\n\u001b[0m\u001b[1;32m    729\u001b[0m \u001b[0;34m\u001b[0m\u001b[0m\n\u001b[1;32m    730\u001b[0m     \u001b[0;32mdef\u001b[0m \u001b[0mcancelled\u001b[0m\u001b[0;34m(\u001b[0m\u001b[0mself\u001b[0m\u001b[0;34m)\u001b[0m\u001b[0;34m:\u001b[0m\u001b[0;34m\u001b[0m\u001b[0;34m\u001b[0m\u001b[0m\n",
            "\u001b[0;32m/usr/local/lib/python3.9/dist-packages/google/api_core/future/polling.py\u001b[0m in \u001b[0;36mresult\u001b[0;34m(self, timeout, retry, polling)\u001b[0m\n\u001b[1;32m    259\u001b[0m             \u001b[0;31m# pylint: disable=raising-bad-type\u001b[0m\u001b[0;34m\u001b[0m\u001b[0;34m\u001b[0m\u001b[0m\n\u001b[1;32m    260\u001b[0m             \u001b[0;31m# Pylint doesn't recognize that this is valid in this case.\u001b[0m\u001b[0;34m\u001b[0m\u001b[0;34m\u001b[0m\u001b[0m\n\u001b[0;32m--> 261\u001b[0;31m             \u001b[0;32mraise\u001b[0m \u001b[0mself\u001b[0m\u001b[0;34m.\u001b[0m\u001b[0m_exception\u001b[0m\u001b[0;34m\u001b[0m\u001b[0;34m\u001b[0m\u001b[0m\n\u001b[0m\u001b[1;32m    262\u001b[0m \u001b[0;34m\u001b[0m\u001b[0m\n\u001b[1;32m    263\u001b[0m         \u001b[0;32mreturn\u001b[0m \u001b[0mself\u001b[0m\u001b[0;34m.\u001b[0m\u001b[0m_result\u001b[0m\u001b[0;34m\u001b[0m\u001b[0;34m\u001b[0m\u001b[0m\n",
            "\u001b[0;31mInternalServerError\u001b[0m: 500 Query exceeded limit for bytes billed: 1000000000. 1771096244224 or higher required.\n\nLocation: US\nJob ID: 8d852a9b-787c-4ab5-b666-aef3c67f7ac3\n"
          ]
        }
      ]
    },
    {
      "cell_type": "code",
      "source": [
        "df.shape"
      ],
      "metadata": {
        "colab": {
          "base_uri": "https://localhost:8080/",
          "height": 165
        },
        "id": "8_5IMBYQPkd4",
        "outputId": "093ad29d-dceb-48da-e002-26e9d75d2148"
      },
      "execution_count": 14,
      "outputs": [
        {
          "output_type": "error",
          "ename": "NameError",
          "evalue": "ignored",
          "traceback": [
            "\u001b[0;31m---------------------------------------------------------------------------\u001b[0m",
            "\u001b[0;31mNameError\u001b[0m                                 Traceback (most recent call last)",
            "\u001b[0;32m<ipython-input-14-633337079cd0>\u001b[0m in \u001b[0;36m<module>\u001b[0;34m\u001b[0m\n\u001b[0;32m----> 1\u001b[0;31m \u001b[0mdf\u001b[0m\u001b[0;34m.\u001b[0m\u001b[0mshape\u001b[0m\u001b[0;34m\u001b[0m\u001b[0;34m\u001b[0m\u001b[0m\n\u001b[0m",
            "\u001b[0;31mNameError\u001b[0m: name 'df' is not defined"
          ]
        }
      ]
    },
    {
      "cell_type": "code",
      "source": [
        "query = \"\"\"\n",
        "        SELECT *\n",
        "        FROM bigquery-public-data.crypto_bitcoin.transactions\n",
        "        LIMIT 5\n",
        "        \"\"\"\n",
        "df = client.query(query).to_dataframe()\n",
        "df.head()"
      ],
      "metadata": {
        "colab": {
          "base_uri": "https://localhost:8080/",
          "height": 432
        },
        "id": "Ofzv_mPJQkdr",
        "outputId": "73d5de29-7bbe-4fa4-db1c-20cc1b399e32"
      },
      "execution_count": 16,
      "outputs": [
        {
          "output_type": "error",
          "ename": "Forbidden",
          "evalue": "ignored",
          "traceback": [
            "\u001b[0;31m---------------------------------------------------------------------------\u001b[0m",
            "\u001b[0;31mForbidden\u001b[0m                                 Traceback (most recent call last)",
            "\u001b[0;32m<ipython-input-16-590810bc3133>\u001b[0m in \u001b[0;36m<module>\u001b[0;34m\u001b[0m\n\u001b[1;32m      4\u001b[0m         \u001b[0mLIMIT\u001b[0m \u001b[0;36m5\u001b[0m\u001b[0;34m\u001b[0m\u001b[0;34m\u001b[0m\u001b[0m\n\u001b[1;32m      5\u001b[0m         \"\"\"\n\u001b[0;32m----> 6\u001b[0;31m \u001b[0mdf\u001b[0m \u001b[0;34m=\u001b[0m \u001b[0mclient\u001b[0m\u001b[0;34m.\u001b[0m\u001b[0mquery\u001b[0m\u001b[0;34m(\u001b[0m\u001b[0mquery\u001b[0m\u001b[0;34m)\u001b[0m\u001b[0;34m.\u001b[0m\u001b[0mto_dataframe\u001b[0m\u001b[0;34m(\u001b[0m\u001b[0;34m)\u001b[0m\u001b[0;34m\u001b[0m\u001b[0;34m\u001b[0m\u001b[0m\n\u001b[0m\u001b[1;32m      7\u001b[0m \u001b[0mdf\u001b[0m\u001b[0;34m.\u001b[0m\u001b[0mhead\u001b[0m\u001b[0;34m(\u001b[0m\u001b[0;34m)\u001b[0m\u001b[0;34m\u001b[0m\u001b[0;34m\u001b[0m\u001b[0m\n",
            "\u001b[0;32m/usr/local/lib/python3.9/dist-packages/google/cloud/bigquery/job/query.py\u001b[0m in \u001b[0;36mto_dataframe\u001b[0;34m(self, bqstorage_client, dtypes, progress_bar_type, create_bqstorage_client, max_results, geography_as_object)\u001b[0m\n\u001b[1;32m   1685\u001b[0m                 \u001b[0;34m:\u001b[0m\u001b[0mmod\u001b[0m\u001b[0;34m:\u001b[0m\u001b[0;31m`\u001b[0m\u001b[0mshapely\u001b[0m\u001b[0;31m`\u001b[0m \u001b[0mlibrary\u001b[0m \u001b[0mcannot\u001b[0m \u001b[0mbe\u001b[0m \u001b[0mimported\u001b[0m\u001b[0;34m.\u001b[0m\u001b[0;34m\u001b[0m\u001b[0;34m\u001b[0m\u001b[0m\n\u001b[1;32m   1686\u001b[0m         \"\"\"\n\u001b[0;32m-> 1687\u001b[0;31m         \u001b[0mquery_result\u001b[0m \u001b[0;34m=\u001b[0m \u001b[0mwait_for_query\u001b[0m\u001b[0;34m(\u001b[0m\u001b[0mself\u001b[0m\u001b[0;34m,\u001b[0m \u001b[0mprogress_bar_type\u001b[0m\u001b[0;34m,\u001b[0m \u001b[0mmax_results\u001b[0m\u001b[0;34m=\u001b[0m\u001b[0mmax_results\u001b[0m\u001b[0;34m)\u001b[0m\u001b[0;34m\u001b[0m\u001b[0;34m\u001b[0m\u001b[0m\n\u001b[0m\u001b[1;32m   1688\u001b[0m         return query_result.to_dataframe(\n\u001b[1;32m   1689\u001b[0m             \u001b[0mbqstorage_client\u001b[0m\u001b[0;34m=\u001b[0m\u001b[0mbqstorage_client\u001b[0m\u001b[0;34m,\u001b[0m\u001b[0;34m\u001b[0m\u001b[0;34m\u001b[0m\u001b[0m\n",
            "\u001b[0;32m/usr/local/lib/python3.9/dist-packages/google/cloud/bigquery/_tqdm_helpers.py\u001b[0m in \u001b[0;36mwait_for_query\u001b[0;34m(query_job, progress_bar_type, max_results)\u001b[0m\n\u001b[1;32m    102\u001b[0m     )\n\u001b[1;32m    103\u001b[0m     \u001b[0;32mif\u001b[0m \u001b[0mprogress_bar\u001b[0m \u001b[0;32mis\u001b[0m \u001b[0;32mNone\u001b[0m\u001b[0;34m:\u001b[0m\u001b[0;34m\u001b[0m\u001b[0;34m\u001b[0m\u001b[0m\n\u001b[0;32m--> 104\u001b[0;31m         \u001b[0;32mreturn\u001b[0m \u001b[0mquery_job\u001b[0m\u001b[0;34m.\u001b[0m\u001b[0mresult\u001b[0m\u001b[0;34m(\u001b[0m\u001b[0mmax_results\u001b[0m\u001b[0;34m=\u001b[0m\u001b[0mmax_results\u001b[0m\u001b[0;34m)\u001b[0m\u001b[0;34m\u001b[0m\u001b[0;34m\u001b[0m\u001b[0m\n\u001b[0m\u001b[1;32m    105\u001b[0m \u001b[0;34m\u001b[0m\u001b[0m\n\u001b[1;32m    106\u001b[0m     \u001b[0mi\u001b[0m \u001b[0;34m=\u001b[0m \u001b[0;36m0\u001b[0m\u001b[0;34m\u001b[0m\u001b[0;34m\u001b[0m\u001b[0m\n",
            "\u001b[0;32m/usr/local/lib/python3.9/dist-packages/google/cloud/bigquery/job/query.py\u001b[0m in \u001b[0;36mresult\u001b[0;34m(self, page_size, max_results, retry, timeout, start_index, job_retry)\u001b[0m\n\u001b[1;32m   1497\u001b[0m                 \u001b[0mdo_get_result\u001b[0m \u001b[0;34m=\u001b[0m \u001b[0mjob_retry\u001b[0m\u001b[0;34m(\u001b[0m\u001b[0mdo_get_result\u001b[0m\u001b[0;34m)\u001b[0m\u001b[0;34m\u001b[0m\u001b[0;34m\u001b[0m\u001b[0m\n\u001b[1;32m   1498\u001b[0m \u001b[0;34m\u001b[0m\u001b[0m\n\u001b[0;32m-> 1499\u001b[0;31m             \u001b[0mdo_get_result\u001b[0m\u001b[0;34m(\u001b[0m\u001b[0;34m)\u001b[0m\u001b[0;34m\u001b[0m\u001b[0;34m\u001b[0m\u001b[0m\n\u001b[0m\u001b[1;32m   1500\u001b[0m \u001b[0;34m\u001b[0m\u001b[0m\n\u001b[1;32m   1501\u001b[0m         \u001b[0;32mexcept\u001b[0m \u001b[0mexceptions\u001b[0m\u001b[0;34m.\u001b[0m\u001b[0mGoogleAPICallError\u001b[0m \u001b[0;32mas\u001b[0m \u001b[0mexc\u001b[0m\u001b[0;34m:\u001b[0m\u001b[0;34m\u001b[0m\u001b[0;34m\u001b[0m\u001b[0m\n",
            "\u001b[0;32m/usr/local/lib/python3.9/dist-packages/google/api_core/retry.py\u001b[0m in \u001b[0;36mretry_wrapped_func\u001b[0;34m(*args, **kwargs)\u001b[0m\n\u001b[1;32m    347\u001b[0m                 \u001b[0mself\u001b[0m\u001b[0;34m.\u001b[0m\u001b[0m_initial\u001b[0m\u001b[0;34m,\u001b[0m \u001b[0mself\u001b[0m\u001b[0;34m.\u001b[0m\u001b[0m_maximum\u001b[0m\u001b[0;34m,\u001b[0m \u001b[0mmultiplier\u001b[0m\u001b[0;34m=\u001b[0m\u001b[0mself\u001b[0m\u001b[0;34m.\u001b[0m\u001b[0m_multiplier\u001b[0m\u001b[0;34m\u001b[0m\u001b[0;34m\u001b[0m\u001b[0m\n\u001b[1;32m    348\u001b[0m             )\n\u001b[0;32m--> 349\u001b[0;31m             return retry_target(\n\u001b[0m\u001b[1;32m    350\u001b[0m                 \u001b[0mtarget\u001b[0m\u001b[0;34m,\u001b[0m\u001b[0;34m\u001b[0m\u001b[0;34m\u001b[0m\u001b[0m\n\u001b[1;32m    351\u001b[0m                 \u001b[0mself\u001b[0m\u001b[0;34m.\u001b[0m\u001b[0m_predicate\u001b[0m\u001b[0;34m,\u001b[0m\u001b[0;34m\u001b[0m\u001b[0;34m\u001b[0m\u001b[0m\n",
            "\u001b[0;32m/usr/local/lib/python3.9/dist-packages/google/api_core/retry.py\u001b[0m in \u001b[0;36mretry_target\u001b[0;34m(target, predicate, sleep_generator, timeout, on_error, **kwargs)\u001b[0m\n\u001b[1;32m    189\u001b[0m     \u001b[0;32mfor\u001b[0m \u001b[0msleep\u001b[0m \u001b[0;32min\u001b[0m \u001b[0msleep_generator\u001b[0m\u001b[0;34m:\u001b[0m\u001b[0;34m\u001b[0m\u001b[0;34m\u001b[0m\u001b[0m\n\u001b[1;32m    190\u001b[0m         \u001b[0;32mtry\u001b[0m\u001b[0;34m:\u001b[0m\u001b[0;34m\u001b[0m\u001b[0;34m\u001b[0m\u001b[0m\n\u001b[0;32m--> 191\u001b[0;31m             \u001b[0;32mreturn\u001b[0m \u001b[0mtarget\u001b[0m\u001b[0;34m(\u001b[0m\u001b[0;34m)\u001b[0m\u001b[0;34m\u001b[0m\u001b[0;34m\u001b[0m\u001b[0m\n\u001b[0m\u001b[1;32m    192\u001b[0m \u001b[0;34m\u001b[0m\u001b[0m\n\u001b[1;32m    193\u001b[0m         \u001b[0;31m# pylint: disable=broad-except\u001b[0m\u001b[0;34m\u001b[0m\u001b[0;34m\u001b[0m\u001b[0m\n",
            "\u001b[0;32m/usr/local/lib/python3.9/dist-packages/google/cloud/bigquery/job/query.py\u001b[0m in \u001b[0;36mdo_get_result\u001b[0;34m()\u001b[0m\n\u001b[1;32m   1487\u001b[0m                     \u001b[0mself\u001b[0m\u001b[0;34m.\u001b[0m\u001b[0m_job_retry\u001b[0m \u001b[0;34m=\u001b[0m \u001b[0mjob_retry\u001b[0m\u001b[0;34m\u001b[0m\u001b[0;34m\u001b[0m\u001b[0m\n\u001b[1;32m   1488\u001b[0m \u001b[0;34m\u001b[0m\u001b[0m\n\u001b[0;32m-> 1489\u001b[0;31m                 \u001b[0msuper\u001b[0m\u001b[0;34m(\u001b[0m\u001b[0mQueryJob\u001b[0m\u001b[0;34m,\u001b[0m \u001b[0mself\u001b[0m\u001b[0;34m)\u001b[0m\u001b[0;34m.\u001b[0m\u001b[0mresult\u001b[0m\u001b[0;34m(\u001b[0m\u001b[0mretry\u001b[0m\u001b[0;34m=\u001b[0m\u001b[0mretry\u001b[0m\u001b[0;34m,\u001b[0m \u001b[0mtimeout\u001b[0m\u001b[0;34m=\u001b[0m\u001b[0mtimeout\u001b[0m\u001b[0;34m)\u001b[0m\u001b[0;34m\u001b[0m\u001b[0;34m\u001b[0m\u001b[0m\n\u001b[0m\u001b[1;32m   1490\u001b[0m \u001b[0;34m\u001b[0m\u001b[0m\n\u001b[1;32m   1491\u001b[0m                 \u001b[0;31m# Since the job could already be \"done\" (e.g. got a finished job\u001b[0m\u001b[0;34m\u001b[0m\u001b[0;34m\u001b[0m\u001b[0m\n",
            "\u001b[0;32m/usr/local/lib/python3.9/dist-packages/google/cloud/bigquery/job/base.py\u001b[0m in \u001b[0;36mresult\u001b[0;34m(self, retry, timeout)\u001b[0m\n\u001b[1;32m    726\u001b[0m \u001b[0;34m\u001b[0m\u001b[0m\n\u001b[1;32m    727\u001b[0m         \u001b[0mkwargs\u001b[0m \u001b[0;34m=\u001b[0m \u001b[0;34m{\u001b[0m\u001b[0;34m}\u001b[0m \u001b[0;32mif\u001b[0m \u001b[0mretry\u001b[0m \u001b[0;32mis\u001b[0m \u001b[0mDEFAULT_RETRY\u001b[0m \u001b[0;32melse\u001b[0m \u001b[0;34m{\u001b[0m\u001b[0;34m\"retry\"\u001b[0m\u001b[0;34m:\u001b[0m \u001b[0mretry\u001b[0m\u001b[0;34m}\u001b[0m\u001b[0;34m\u001b[0m\u001b[0;34m\u001b[0m\u001b[0m\n\u001b[0;32m--> 728\u001b[0;31m         \u001b[0;32mreturn\u001b[0m \u001b[0msuper\u001b[0m\u001b[0;34m(\u001b[0m\u001b[0m_AsyncJob\u001b[0m\u001b[0;34m,\u001b[0m \u001b[0mself\u001b[0m\u001b[0;34m)\u001b[0m\u001b[0;34m.\u001b[0m\u001b[0mresult\u001b[0m\u001b[0;34m(\u001b[0m\u001b[0mtimeout\u001b[0m\u001b[0;34m=\u001b[0m\u001b[0mtimeout\u001b[0m\u001b[0;34m,\u001b[0m \u001b[0;34m**\u001b[0m\u001b[0mkwargs\u001b[0m\u001b[0;34m)\u001b[0m\u001b[0;34m\u001b[0m\u001b[0;34m\u001b[0m\u001b[0m\n\u001b[0m\u001b[1;32m    729\u001b[0m \u001b[0;34m\u001b[0m\u001b[0m\n\u001b[1;32m    730\u001b[0m     \u001b[0;32mdef\u001b[0m \u001b[0mcancelled\u001b[0m\u001b[0;34m(\u001b[0m\u001b[0mself\u001b[0m\u001b[0;34m)\u001b[0m\u001b[0;34m:\u001b[0m\u001b[0;34m\u001b[0m\u001b[0;34m\u001b[0m\u001b[0m\n",
            "\u001b[0;32m/usr/local/lib/python3.9/dist-packages/google/api_core/future/polling.py\u001b[0m in \u001b[0;36mresult\u001b[0;34m(self, timeout, retry, polling)\u001b[0m\n\u001b[1;32m    259\u001b[0m             \u001b[0;31m# pylint: disable=raising-bad-type\u001b[0m\u001b[0;34m\u001b[0m\u001b[0;34m\u001b[0m\u001b[0m\n\u001b[1;32m    260\u001b[0m             \u001b[0;31m# Pylint doesn't recognize that this is valid in this case.\u001b[0m\u001b[0;34m\u001b[0m\u001b[0;34m\u001b[0m\u001b[0m\n\u001b[0;32m--> 261\u001b[0;31m             \u001b[0;32mraise\u001b[0m \u001b[0mself\u001b[0m\u001b[0;34m.\u001b[0m\u001b[0m_exception\u001b[0m\u001b[0;34m\u001b[0m\u001b[0;34m\u001b[0m\u001b[0m\n\u001b[0m\u001b[1;32m    262\u001b[0m \u001b[0;34m\u001b[0m\u001b[0m\n\u001b[1;32m    263\u001b[0m         \u001b[0;32mreturn\u001b[0m \u001b[0mself\u001b[0m\u001b[0;34m.\u001b[0m\u001b[0m_result\u001b[0m\u001b[0;34m\u001b[0m\u001b[0;34m\u001b[0m\u001b[0m\n",
            "\u001b[0;31mForbidden\u001b[0m: 403 Quota exceeded: Your project exceeded quota for free query bytes scanned. For more information, see https://cloud.google.com/bigquery/docs/troubleshoot-quotas\n\nLocation: US\nJob ID: 66a7c472-1cd6-4405-9a46-8e7271a32ef4\n"
          ]
        }
      ]
    },
    {
      "cell_type": "markdown",
      "source": [
        "## Come up with questions about your data\n",
        "* What sort of information is in this dataset?\n",
        "* How many records are there?\n",
        "* Have the number of bitcoin transactions increased year over year?\n",
        "* Does New Mexico get more or less rain now than 20 years ago?\n",
        "* How many different countries (states, counties, cities, etc) have records in this data set?\n",
        "\n",
        "\n"
      ],
      "metadata": {
        "id": "OA9Mp38s52x2"
      }
    },
    {
      "cell_type": "code",
      "source": [],
      "metadata": {
        "id": "LYR3yVkI6KJM"
      },
      "execution_count": null,
      "outputs": []
    },
    {
      "cell_type": "markdown",
      "source": [
        "## Use SQL queries to pull specific information\n",
        "\n",
        "Do NOT pull all the data and then filter using DataFrame methods etc. Make sure and use AT LEAST 13 of the 15 SQL options listed below. (You may have to get creative and come up with more questions to ask/answer.)\n",
        "\n",
        "* Basic Queries\n",
        "  * SELECT (with * and with column names)\n",
        "  * WHERE\n",
        "  * AND\n",
        "  * OR\n",
        "  * LIKE (with % or _ wildcard)\n",
        "  * BETWEEN\n",
        "  * LIMIT\n",
        "\n",
        "* Sorting and Grouping\n",
        "  * ORDER BY\n",
        "  * DISTINCT\n",
        "  * GROUP BY\n",
        "\n",
        "* Aggregates\n",
        "  * MAX\n",
        "  * MIN\n",
        "  * SUM\n",
        "  * AVG\n",
        "  * COUNT\n",
        "\n"
      ],
      "metadata": {
        "id": "TqvaIfog546s"
      }
    },
    {
      "cell_type": "code",
      "source": [],
      "metadata": {
        "id": "NMrvo0jE6LL9"
      },
      "execution_count": null,
      "outputs": []
    },
    {
      "cell_type": "markdown",
      "source": [
        "## Make some plots\n",
        "\n",
        "Make some cool plots to go with your data. Write SQL queries to get ONLY the information you need for each plot. (Don't pull ALL the data and then just plot a few columns.)\n",
        "\n"
      ],
      "metadata": {
        "id": "ntL8dHJT57K8"
      }
    },
    {
      "cell_type": "code",
      "source": [],
      "metadata": {
        "id": "SZXIuqBX6L50"
      },
      "execution_count": null,
      "outputs": []
    },
    {
      "cell_type": "markdown",
      "source": [
        "## EXTRA CREDIT:\n",
        "* Use a query that joins two tables.\n",
        "* Make a model to see if you can predict something\n",
        "* Come up with something else cool to do with your data\n"
      ],
      "metadata": {
        "id": "H6QrBn3n58mU"
      }
    },
    {
      "cell_type": "code",
      "source": [],
      "metadata": {
        "id": "rEZQv6vn59IP"
      },
      "execution_count": null,
      "outputs": []
    }
  ]
}